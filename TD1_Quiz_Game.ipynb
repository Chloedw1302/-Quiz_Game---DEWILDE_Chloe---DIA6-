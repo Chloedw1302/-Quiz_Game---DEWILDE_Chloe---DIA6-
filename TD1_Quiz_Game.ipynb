{
  "nbformat": 4,
  "nbformat_minor": 0,
  "metadata": {
    "colab": {
      "provenance": [],
      "include_colab_link": true
    },
    "kernelspec": {
      "name": "python3",
      "display_name": "Python 3"
    },
    "language_info": {
      "name": "python"
    }
  },
  "cells": [
    {
      "cell_type": "markdown",
      "metadata": {
        "id": "view-in-github",
        "colab_type": "text"
      },
      "source": [
        "<a href=\"https://colab.research.google.com/github/ThomasValesi/-Quiz_Game---DEWILDE_Chloe---DIA6-/blob/fix-bug/TD1_Quiz_Game.ipynb\" target=\"_parent\"><img src=\"https://colab.research.google.com/assets/colab-badge.svg\" alt=\"Open In Colab\"/></a>"
      ]
    },
    {
      "cell_type": "code",
      "execution_count": 1,
      "metadata": {
        "colab": {
          "base_uri": "https://localhost:8080/"
        },
        "id": "XZ7wkdJb54Ll",
        "outputId": "fb358bb9-e0ba-44ca-f465-f583e59ff433"
      },
      "outputs": [
        {
          "output_type": "stream",
          "name": "stdout",
          "text": [
            "Welcome to the Quiz Game!\n",
            "\n",
            "Question 1: What is the freezing point of water in Celsius?\n",
            "1. 0\n",
            "2. 32\n",
            "3. 100\n",
            "4. -10\n",
            "Your answer (type the number): 1\n",
            "Correct!\n",
            "\n",
            "Question 2: Who wrote 'Hamlet'?\n",
            "1. William Shakespeare\n",
            "2. Charles Dickens\n",
            "3. Mark Twain\n",
            "4. Leo Tolstoy\n",
            "Your answer (type the number): 1\n",
            "Correct!\n",
            "\n",
            "Question 3: Which gas is most abundant in the Earth's atmosphere?\n",
            "1. Oxygen\n",
            "2. Nitrogen\n",
            "3. Carbon Dioxide\n",
            "4. Argon\n",
            "Your answer (type the number): 2\n",
            "Correct!\n",
            "\n",
            "Game Over! Your final score is 3/3.\n",
            "\n"
          ]
        }
      ],
      "source": [
        "import random\n",
        "\n",
        "questions = {\n",
        "    \"easy\": [\n",
        "        {\"question\": \"What is the capital of France?\", \"options\": [\"Paris\", \"London\", \"Berlin\", \"Madrid\"], \"answer\": \"Paris\"},\n",
        "        {\"question\": \"Which planet is known as the Red Planet?\", \"options\": [\"Earth\", \"Mars\", \"Jupiter\", \"Venus\"], \"answer\": \"Mars\"},\n",
        "        {\"question\": \"What is the chemical symbol for water?\", \"options\": [\"O2\", \"H2O\", \"CO2\", \"HO\"], \"answer\": \"H2O\"},\n",
        "        {\"question\": \"What is the freezing point of water in Celsius?\", \"options\": [\"0\", \"32\", \"100\", \"-10\"], \"answer\": \"0\"}\n",
        "    ],\n",
        "    \"medium\": [\n",
        "        {\"question\": \"Who wrote 'Hamlet'?\", \"options\": [\"William Shakespeare\", \"Charles Dickens\", \"Mark Twain\", \"Leo Tolstoy\"], \"answer\": \"William Shakespeare\"},\n",
        "        {\"question\": \"Which continent is the Sahara Desert located in?\", \"options\": [\"Asia\", \"Africa\", \"South America\", \"Australia\"], \"answer\": \"Africa\"},\n",
        "        {\"question\": \"What is the smallest prime number?\", \"options\": [\"0\", \"1\", \"2\", \"3\"], \"answer\": \"2\"},\n",
        "        {\"question\": \"Which country is known as the Land of the Rising Sun?\", \"options\": [\"China\", \"Japan\", \"Thailand\", \"South Korea\"], \"answer\": \"Japan\"}\n",
        "    ],\n",
        "    \"hard\": [\n",
        "        {\"question\": \"What is the hardest natural substance on Earth?\", \"options\": [\"Gold\", \"Diamond\", \"Iron\", \"Quartz\"], \"answer\": \"Diamond\"},\n",
        "        {\"question\": \"What is the largest mammal in the world?\", \"options\": [\"Elephant\", \"Blue Whale\", \"Giraffe\", \"Hippopotamus\"], \"answer\": \"Blue Whale\"},\n",
        "        {\"question\": \"What is the square root of 144?\", \"options\": [\"10\", \"11\", \"12\", \"13\"], \"answer\": \"12\"},\n",
        "        {\"question\": \"Which gas is most abundant in the Earth's atmosphere?\", \"options\": [\"Oxygen\", \"Nitrogen\", \"Carbon Dioxide\", \"Argon\"], \"answer\": \"Nitrogen\"}\n",
        "    ]\n",
        "}\n",
        "\n",
        "def play_quiz():\n",
        "    print(\"Welcome to the Quiz Game!\\n\")\n",
        "\n",
        "    selected_questions = []\n",
        "    used_questions = set()\n",
        "\n",
        "    for difficulty, question_list in questions.items():\n",
        "        available_questions = [q for q in question_list if q['question'] not in used_questions]\n",
        "        if available_questions:\n",
        "            selected_question = random.choice(available_questions)\n",
        "            selected_questions.append(selected_question)\n",
        "            used_questions.add(selected_question['question'])\n",
        "\n",
        "    score = 0\n",
        "\n",
        "    for idx, q in enumerate(selected_questions):\n",
        "        print(f\"Question {idx + 1}: {q['question']}\")\n",
        "        for i, option in enumerate(q['options'], 1):\n",
        "            print(f\"{i}. {option}\")\n",
        "\n",
        "        try:\n",
        "            answer = int(input(\"Your answer (type the number): \"))\n",
        "            if q['options'][answer - 1] == q['answer']:\n",
        "                print(\"Correct!\\n\")\n",
        "                score += 1\n",
        "            else:\n",
        "                print(f\"Wrong! The correct answer was: {q['answer']}\\n\")\n",
        "        except (ValueError, IndexError):\n",
        "            print(\"Invalid input. Skipping question.\\n\")\n",
        "\n",
        "    print(f\"Game Over! Your final score is {score}/{len(selected_questions)}.\\n\")\n",
        "\n",
        "\n",
        "play_quiz()\n",
        "\n"
      ]
    }
  ]
}